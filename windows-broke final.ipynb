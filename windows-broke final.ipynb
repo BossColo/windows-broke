{
 "cells": [
  {
   "cell_type": "code",
   "execution_count": 2,
   "metadata": {
    "ExecuteTime": {
     "end_time": "2017-05-15T16:52:14.675200Z",
     "start_time": "2017-05-15T16:52:09.676506Z"
    },
    "collapsed": true
   },
   "outputs": [],
   "source": [
    "import numpy as np\n",
    "import pandas as pd\n",
    "import datetime as dt\n",
    "import matplotlib.pyplot as plt\n",
    "import matplotlib.dates as date\n",
    "import seaborn as sns\n",
    "\n",
    "sns.set_context('talk')"
   ]
  },
  {
   "cell_type": "code",
   "execution_count": 3,
   "metadata": {
    "ExecuteTime": {
     "end_time": "2017-05-15T16:52:38.841741Z",
     "start_time": "2017-05-15T16:52:14.677203Z"
    },
    "collapsed": true
   },
   "outputs": [],
   "source": [
    "data_crime_raw = pd.read_csv('.\\\\NYPD_Complaint_Data_Historic.csv',\n",
    "                             usecols=['CMPLNT_FR_DT', 'OFNS_DESC', 'LAW_CAT_CD', 'Latitude', 'Longitude', 'BORO_NM'],\n",
    "                             dtype={'OFNS_DESC':'category', 'LAW_CAT_CD':'category', 'BORO_NM':'category',\n",
    "                                    'Latitude':float, 'Longitude':float})\n",
    "\n",
    "data_crime_raw['CMPLNT_FR_DT'] = pd.to_datetime(data_crime_raw['CMPLNT_FR_DT'], format='%m/%d/%Y', errors='coerce')"
   ]
  },
  {
   "cell_type": "code",
   "execution_count": 4,
   "metadata": {
    "ExecuteTime": {
     "end_time": "2017-05-15T16:54:59.965651Z",
     "start_time": "2017-05-15T16:52:38.843726Z"
    },
    "collapsed": true
   },
   "outputs": [],
   "source": [
    "data_311_raw = pd.read_csv('.\\\\311_Service_Requests_from_2010_to_Present.csv',\n",
    "                           usecols=['Created Date', 'Complaint Type', 'Descriptor', 'Latitude', 'Longitude', 'Borough'],\n",
    "                           dtype={'Complaint Type':'category', 'Descriptor':'category', 'Borough':'category',\n",
    "                                  'Latitude':float, 'Longitude':float})\n",
    "\n",
    "data_311_raw['created_date'] = pd.to_datetime(data_311_raw['Created Date'], format='%m/%d/%Y %I:%M:%S %p', errors='coerce')"
   ]
  },
  {
   "cell_type": "code",
   "execution_count": 5,
   "metadata": {
    "ExecuteTime": {
     "end_time": "2017-05-15T16:55:05.412473Z",
     "start_time": "2017-05-15T16:54:59.967653Z"
    },
    "collapsed": true
   },
   "outputs": [],
   "source": [
    "data_crime = data_crime_raw[data_crime_raw.CMPLNT_FR_DT > pd.to_datetime(dt.date(2010,1,1))].dropna()\n",
    "data_311 = data_311_raw[data_311_raw.created_date < pd.to_datetime(dt.date(2016,1,1))].dropna()"
   ]
  },
  {
   "cell_type": "code",
   "execution_count": 6,
   "metadata": {
    "ExecuteTime": {
     "end_time": "2017-05-15T16:55:05.517029Z",
     "start_time": "2017-05-15T16:55:05.414457Z"
    },
    "collapsed": true
   },
   "outputs": [],
   "source": [
    "minlat = data_crime.Latitude.min()\n",
    "maxlat = data_crime.Latitude.max()\n",
    "minlon = data_crime.Longitude.min()\n",
    "maxlon = data_crime.Longitude.max()\n",
    "\n",
    "latrange = np.arange(minlat, maxlat+0.02, 0.02)\n",
    "lonrange = np.arange(minlon, maxlon+0.02, 0.02)"
   ]
  },
  {
   "cell_type": "code",
   "execution_count": 7,
   "metadata": {
    "ExecuteTime": {
     "end_time": "2017-05-15T16:55:05.615605Z",
     "start_time": "2017-05-15T16:55:05.518531Z"
    },
    "collapsed": true
   },
   "outputs": [],
   "source": [
    "data_crime = data_crime[data_crime.LAW_CAT_CD != 'VIOLATION']"
   ]
  },
  {
   "cell_type": "code",
   "execution_count": 8,
   "metadata": {
    "ExecuteTime": {
     "end_time": "2017-05-15T16:55:07.309525Z",
     "start_time": "2017-05-15T16:55:05.617609Z"
    },
    "collapsed": true
   },
   "outputs": [],
   "source": [
    "boros = data_crime['BORO_NM'].cat.categories.tolist()\n",
    "d_c_by_boro = {}\n",
    "max_crime_loc = {}\n",
    "min_crime_loc = {}\n",
    "\n",
    "for boro in boros:\n",
    "    d_c_by_boro[boro] = data_crime[data_crime['BORO_NM']==boro].groupby(\n",
    "        by=[pd.cut(data_crime[data_crime['BORO_NM']==boro]['Latitude'], latrange),\n",
    "        pd.cut(data_crime[data_crime['BORO_NM']==boro]['Longitude'], lonrange),\n",
    "        pd.TimeGrouper(key='CMPLNT_FR_DT',freq='M')])\n",
    "    \n",
    "    max_crime_loc[boro] = d_c_by_boro[boro].size().unstack().mean(axis=1).argmax()\n",
    "    min_crime_loc[boro] = d_c_by_boro[boro].size().unstack().mean(axis=1).argmin()"
   ]
  },
  {
   "cell_type": "code",
   "execution_count": 9,
   "metadata": {
    "ExecuteTime": {
     "end_time": "2017-05-15T16:55:07.326539Z",
     "start_time": "2017-05-15T16:55:07.311545Z"
    }
   },
   "outputs": [
    {
     "data": {
      "text/plain": [
       "{'BRONX': (Interval(40.658999999999999, 40.679000000000002, closed='right'),\n",
       "  Interval(-74.015000000000001, -73.995000000000005, closed='right')),\n",
       " 'BROOKLYN': (Interval(40.619, 40.639000000000003, closed='right'),\n",
       "  Interval(-74.155000000000001, -74.135000000000005, closed='right')),\n",
       " 'MANHATTAN': (Interval(40.639000000000003, 40.658999999999999, closed='right'),\n",
       "  Interval(-74.015000000000001, -73.995000000000005, closed='right')),\n",
       " 'QUEENS': (Interval(40.579000000000001, 40.598999999999997, closed='right'),\n",
       "  Interval(-73.875, -73.855000000000004, closed='right')),\n",
       " 'STATEN ISLAND': (Interval(40.598999999999997, 40.619, closed='right'),\n",
       "  Interval(-74.215000000000003, -74.194999999999993, closed='right'))}"
      ]
     },
     "execution_count": 9,
     "metadata": {},
     "output_type": "execute_result"
    }
   ],
   "source": [
    "min_crime_loc"
   ]
  },
  {
   "cell_type": "code",
   "execution_count": 10,
   "metadata": {
    "ExecuteTime": {
     "end_time": "2017-05-15T16:55:35.437785Z",
     "start_time": "2017-05-15T16:55:07.336046Z"
    },
    "collapsed": true
   },
   "outputs": [],
   "source": [
    "d_311_grouped = data_311.groupby(\n",
    "    by=[pd.cut(data_311['Latitude'], latrange),\n",
    "        pd.cut(data_311['Longitude'], lonrange),\n",
    "        pd.TimeGrouper(key='created_date',freq='M')])\n",
    "\n",
    "d_c_grouped = data_crime.groupby(\n",
    "    by=[pd.cut(data_crime['Latitude'], latrange),\n",
    "    pd.cut(data_crime['Longitude'], lonrange),\n",
    "    pd.TimeGrouper(key='CMPLNT_FR_DT',freq='M')])\n",
    "\n",
    "d_311_largest = {}\n",
    "data = {}\n",
    "\n",
    "complaint_311_count = data_311['Complaint Type'].value_counts()\n",
    "\n",
    "for boro in boros:\n",
    "    data[boro] = d_c_grouped.size().loc[max_crime_loc[boro]].to_frame('total_crimes').merge(\n",
    "        d_311_grouped['Complaint Type'].value_counts().loc[max_crime_loc[boro]].unstack().fillna(0),\n",
    "        left_index=True, right_index=True, how='inner')"
   ]
  },
  {
   "cell_type": "code",
   "execution_count": 11,
   "metadata": {
    "ExecuteTime": {
     "end_time": "2017-05-15T16:55:35.776011Z",
     "start_time": "2017-05-15T16:55:35.439786Z"
    },
    "collapsed": true
   },
   "outputs": [],
   "source": [
    "d_311_grouped = data_311.groupby(\n",
    "    by=['Borough'])\n",
    "\n",
    "d_c_grouped = data_crime.groupby(\n",
    "    by=['BORO_NM'])\n",
    "\n",
    "data = d_311_grouped.size().to_frame('311').merge(d_c_grouped.size().to_frame('crime'), left_index=True, right_index=True)"
   ]
  },
  {
   "cell_type": "code",
   "execution_count": 12,
   "metadata": {
    "ExecuteTime": {
     "end_time": "2017-05-15T16:55:36.080207Z",
     "start_time": "2017-05-15T16:55:35.777987Z"
    }
   },
   "outputs": [
    {
     "data": {
      "image/png": "[encoded data removed]",
      "text/plain": [
       "<matplotlib.figure.Figure at 0x1d32700de48>"
      ]
     },
     "metadata": {},
     "output_type": "display_data"
    }
   ],
   "source": [
    "plt.close('all')\n",
    "data.plot(kind='scatter', x='311', y='crime')\n",
    "plt.show()"
   ]
  },
  {
   "cell_type": "code",
   "execution_count": 13,
   "metadata": {
    "ExecuteTime": {
     "end_time": "2017-05-15T16:55:38.003598Z",
     "start_time": "2017-05-15T16:55:36.082209Z"
    },
    "collapsed": true
   },
   "outputs": [],
   "source": [
    "d_311_grouped = data_311.groupby(\n",
    "    by=[pd.cut(data_311['Latitude'], latrange),\n",
    "        pd.cut(data_311['Longitude'], lonrange)])\n",
    "\n",
    "d_c_grouped = data_crime.groupby(\n",
    "    by=[pd.cut(data_crime['Latitude'], latrange),\n",
    "    pd.cut(data_crime['Longitude'], lonrange)])\n",
    "\n",
    "data = d_311_grouped.size().to_frame('311').merge(d_c_grouped.size().to_frame('crime'), left_index=True, right_index=True)"
   ]
  },
  {
   "cell_type": "code",
   "execution_count": 35,
   "metadata": {
    "ExecuteTime": {
     "end_time": "2017-05-15T17:11:28.946152Z",
     "start_time": "2017-05-15T17:11:28.546758Z"
    }
   },
   "outputs": [
    {
     "data": {
      "image/png": "[encoded data removed]",
      "text/plain": [
       "<matplotlib.figure.Figure at 0x1d331677160>"
      ]
     },
     "metadata": {},
     "output_type": "display_data"
    }
   ],
   "source": [
    "data_311 = np.array(data['311'].apply(int))\n",
    "data_crime = np.array(data['crime'].apply(int))\n",
    "plt.close('all')\n",
    "# data.plot(kind='scatter', x='311', y='crime')\n",
    "sns.regplot(x=data_311, y=data_crime)\n",
    "plt.suptitle('311 v total crime 2010-2016\\ngrouped by location')\n",
    "plt.xlabel('Total 311 complaints')\n",
    "plt.ylabel('Total reported crime')\n",
    "# plt.savefig('311vcrime.png', format='png')\n",
    "plt.show()"
   ]
  },
  {
   "cell_type": "code",
   "execution_count": 31,
   "metadata": {
    "ExecuteTime": {
     "end_time": "2017-05-15T17:10:16.837296Z",
     "start_time": "2017-05-15T17:10:16.826287Z"
    }
   },
   "outputs": [
    {
     "data": {
      "text/plain": [
       "[1882,\n",
       " 472,\n",
       " 336,\n",
       " 35,\n",
       " 353,\n",
       " 967,\n",
       " 1328,\n",
       " 866,\n",
       " 719,\n",
       " 434,\n",
       " 70,\n",
       " 1559,\n",
       " 1990,\n",
       " 1897,\n",
       " 2601,\n",
       " 2656,\n",
       " 492,\n",
       " 73,\n",
       " 149,\n",
       " 25,\n",
       " 126,\n",
       " 580,\n",
       " 1840,\n",
       " 959,\n",
       " 2506,\n",
       " 4416,\n",
       " 904,\n",
       " 4055,\n",
       " 8875,\n",
       " 4161,\n",
       " 525,\n",
       " 252,\n",
       " 137,\n",
       " 73,\n",
       " 324,\n",
       " 836,\n",
       " 6,\n",
       " 25,\n",
       " 696,\n",
       " 5282,\n",
       " 839,\n",
       " 414,\n",
       " 2104,\n",
       " 3560,\n",
       " 1641,\n",
       " 3282,\n",
       " 8900,\n",
       " 11852,\n",
       " 10367,\n",
       " 2285,\n",
       " 223,\n",
       " 16,\n",
       " 6,\n",
       " 1023,\n",
       " 2825,\n",
       " 5024,\n",
       " 4363,\n",
       " 3630,\n",
       " 2277,\n",
       " 4,\n",
       " 566,\n",
       " 2089,\n",
       " 1547,\n",
       " 3192,\n",
       " 1164,\n",
       " 6775,\n",
       " 2810,\n",
       " 469,\n",
       " 2775,\n",
       " 9982,\n",
       " 11446,\n",
       " 10666,\n",
       " 7593,\n",
       " 7209,\n",
       " 1564,\n",
       " 578,\n",
       " 58,\n",
       " 43,\n",
       " 4591,\n",
       " 5911,\n",
       " 301,\n",
       " 5668,\n",
       " 6830,\n",
       " 8371,\n",
       " 3099,\n",
       " 10640,\n",
       " 468,\n",
       " 1344,\n",
       " 14494,\n",
       " 12022,\n",
       " 7838,\n",
       " 11270,\n",
       " 15445,\n",
       " 12042,\n",
       " 7773,\n",
       " 4259,\n",
       " 75,\n",
       " 6,\n",
       " 1029,\n",
       " 254,\n",
       " 698,\n",
       " 972,\n",
       " 7075,\n",
       " 21,\n",
       " 60,\n",
       " 5088,\n",
       " 17161,\n",
       " 6068,\n",
       " 25232,\n",
       " 24781,\n",
       " 15503,\n",
       " 16616,\n",
       " 11257,\n",
       " 3300,\n",
       " 1209,\n",
       " 397,\n",
       " 75,\n",
       " 603,\n",
       " 1544,\n",
       " 1096,\n",
       " 181,\n",
       " 7863,\n",
       " 12767,\n",
       " 17229,\n",
       " 31331,\n",
       " 42062,\n",
       " 40722,\n",
       " 33085,\n",
       " 17354,\n",
       " 5093,\n",
       " 5350,\n",
       " 5480,\n",
       " 6150,\n",
       " 7243,\n",
       " 5157,\n",
       " 1866,\n",
       " 2,\n",
       " 16,\n",
       " 4703,\n",
       " 37681,\n",
       " 23782,\n",
       " 40472,\n",
       " 34779,\n",
       " 17729,\n",
       " 8953,\n",
       " 13929,\n",
       " 13001,\n",
       " 13219,\n",
       " 11715,\n",
       " 14559,\n",
       " 7552,\n",
       " 5765,\n",
       " 1313,\n",
       " 1091,\n",
       " 27491,\n",
       " 21165,\n",
       " 13231,\n",
       " 28155,\n",
       " 14184,\n",
       " 18266,\n",
       " 6447,\n",
       " 4547,\n",
       " 3248,\n",
       " 9087,\n",
       " 19259,\n",
       " 12826,\n",
       " 7285,\n",
       " 7572,\n",
       " 1505,\n",
       " 40567,\n",
       " 57858,\n",
       " 6409,\n",
       " 8605,\n",
       " 1921,\n",
       " 4314,\n",
       " 6482,\n",
       " 17459,\n",
       " 7422,\n",
       " 2684,\n",
       " 7017,\n",
       " 2461,\n",
       " 2156,\n",
       " 3695,\n",
       " 2637,\n",
       " 787,\n",
       " 24935,\n",
       " 91117,\n",
       " 10928,\n",
       " 9192,\n",
       " 12010,\n",
       " 13604,\n",
       " 24410,\n",
       " 23470,\n",
       " 3752,\n",
       " 10493,\n",
       " 2267,\n",
       " 3529,\n",
       " 2447,\n",
       " 1578,\n",
       " 1584,\n",
       " 1116,\n",
       " 2721,\n",
       " 38470,\n",
       " 23623,\n",
       " 10466,\n",
       " 15245,\n",
       " 9125,\n",
       " 6463,\n",
       " 4172,\n",
       " 1636,\n",
       " 11835,\n",
       " 3591,\n",
       " 2818,\n",
       " 2664,\n",
       " 1074,\n",
       " 733,\n",
       " 53,\n",
       " 9608,\n",
       " 20283,\n",
       " 43744,\n",
       " 5804,\n",
       " 950,\n",
       " 4819,\n",
       " 88,\n",
       " 2950,\n",
       " 2149,\n",
       " 2012,\n",
       " 1043,\n",
       " 48,\n",
       " 23,\n",
       " 20441,\n",
       " 66186,\n",
       " 38605,\n",
       " 22407,\n",
       " 8272,\n",
       " 5024,\n",
       " 2934,\n",
       " 1185,\n",
       " 572,\n",
       " 2636,\n",
       " 47082,\n",
       " 39449,\n",
       " 48828,\n",
       " 36167,\n",
       " 30155,\n",
       " 12750,\n",
       " 6939,\n",
       " 464,\n",
       " 53,\n",
       " 12959,\n",
       " 29186,\n",
       " 48520,\n",
       " 34230,\n",
       " 16540,\n",
       " 8965,\n",
       " 4542,\n",
       " 814,\n",
       " 1,\n",
       " 14176,\n",
       " 36103,\n",
       " 28957,\n",
       " 19285,\n",
       " 10103,\n",
       " 8330,\n",
       " 199,\n",
       " 2,\n",
       " 772,\n",
       " 9352,\n",
       " 7617,\n",
       " 14377,\n",
       " 11104,\n",
       " 3370,\n",
       " 10,\n",
       " 2208,\n",
       " 19,\n",
       " 1208,\n",
       " 3590]"
      ]
     },
     "execution_count": 31,
     "metadata": {},
     "output_type": "execute_result"
    }
   ],
   "source": [
    "data_crime"
   ]
  },
  {
   "cell_type": "code",
   "execution_count": null,
   "metadata": {
    "collapsed": true
   },
   "outputs": [],
   "source": []
  }
 ],
 "metadata": {
  "kernelspec": {
   "display_name": "Python 3",
   "language": "python",
   "name": "python3"
  },
  "language_info": {
   "codemirror_mode": {
    "name": "ipython",
    "version": 3
   },
   "file_extension": ".py",
   "mimetype": "text/x-python",
   "name": "python",
   "nbconvert_exporter": "python",
   "pygments_lexer": "ipython3",
   "version": "3.6.1"
  }
 },
 "nbformat": 4,
 "nbformat_minor": 2
}
