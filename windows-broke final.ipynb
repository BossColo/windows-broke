{
 "cells": [
  {
   "cell_type": "code",
   "execution_count": 2,
   "metadata": {
    "ExecuteTime": {
     "end_time": "2017-05-15T16:52:14.675200Z",
     "start_time": "2017-05-15T16:52:09.676506Z"
    },
    "collapsed": true
   },
   "outputs": [],
   "source": [
    "import numpy as np\n",
    "import pandas as pd\n",
    "import datetime as dt\n",
    "import matplotlib.pyplot as plt\n",
    "import matplotlib.dates as date\n",
    "import seaborn as sns\n",
    "\n",
    "sns.set_context('talk')"
   ]
  },
  {
   "cell_type": "code",
   "execution_count": 3,
   "metadata": {
    "ExecuteTime": {
     "end_time": "2017-05-15T16:52:38.841741Z",
     "start_time": "2017-05-15T16:52:14.677203Z"
    },
    "collapsed": true
   },
   "outputs": [],
   "source": [
    "data_crime_raw = pd.read_csv('.\\\\NYPD_Complaint_Data_Historic.csv',\n",
    "                             usecols=['CMPLNT_FR_DT', 'OFNS_DESC', 'LAW_CAT_CD', 'Latitude', 'Longitude', 'BORO_NM'],\n",
    "                             dtype={'OFNS_DESC':'category', 'LAW_CAT_CD':'category', 'BORO_NM':'category',\n",
    "                                    'Latitude':float, 'Longitude':float})\n",
    "\n",
    "data_crime_raw['CMPLNT_FR_DT'] = pd.to_datetime(data_crime_raw['CMPLNT_FR_DT'], format='%m/%d/%Y', errors='coerce')"
   ]
  },
  {
   "cell_type": "code",
   "execution_count": 4,
   "metadata": {
    "ExecuteTime": {
     "end_time": "2017-05-15T16:54:59.965651Z",
     "start_time": "2017-05-15T16:52:38.843726Z"
    },
    "collapsed": true
   },
   "outputs": [],
   "source": [
    "data_311_raw = pd.read_csv('.\\\\311_Service_Requests_from_2010_to_Present.csv',\n",
    "                           usecols=['Created Date', 'Complaint Type', 'Descriptor', 'Latitude', 'Longitude', 'Borough'],\n",
    "                           dtype={'Complaint Type':'category', 'Descriptor':'category', 'Borough':'category',\n",
    "                                  'Latitude':float, 'Longitude':float})\n",
    "\n",
    "data_311_raw['created_date'] = pd.to_datetime(data_311_raw['Created Date'], format='%m/%d/%Y %I:%M:%S %p', errors='coerce')"
   ]
  },
  {
   "cell_type": "code",
   "execution_count": 5,
   "metadata": {
    "ExecuteTime": {
     "end_time": "2017-05-15T16:55:05.412473Z",
     "start_time": "2017-05-15T16:54:59.967653Z"
    },
    "collapsed": true
   },
   "outputs": [],
   "source": [
    "data_crime = data_crime_raw[data_crime_raw.CMPLNT_FR_DT > pd.to_datetime(dt.date(2010,1,1))].dropna()\n",
    "data_311 = data_311_raw[data_311_raw.created_date < pd.to_datetime(dt.date(2016,1,1))].dropna()"
   ]
  },
  {
   "cell_type": "code",
   "execution_count": 6,
   "metadata": {
    "ExecuteTime": {
     "end_time": "2017-05-15T16:55:05.517029Z",
     "start_time": "2017-05-15T16:55:05.414457Z"
    },
    "collapsed": true
   },
   "outputs": [],
   "source": [
    "minlat = data_crime.Latitude.min()\n",
    "maxlat = data_crime.Latitude.max()\n",
    "minlon = data_crime.Longitude.min()\n",
    "maxlon = data_crime.Longitude.max()\n",
    "\n",
    "latrange = np.arange(minlat, maxlat+0.02, 0.02)\n",
    "lonrange = np.arange(minlon, maxlon+0.02, 0.02)"
   ]
  },
  {
   "cell_type": "code",
   "execution_count": 7,
   "metadata": {
    "ExecuteTime": {
     "end_time": "2017-05-15T16:55:05.615605Z",
     "start_time": "2017-05-15T16:55:05.518531Z"
    },
    "collapsed": true
   },
   "outputs": [],
   "source": [
    "data_crime = data_crime[data_crime.LAW_CAT_CD != 'VIOLATION']"
   ]
  },
  {
   "cell_type": "code",
   "execution_count": 8,
   "metadata": {
    "ExecuteTime": {
     "end_time": "2017-05-15T16:55:07.309525Z",
     "start_time": "2017-05-15T16:55:05.617609Z"
    },
    "collapsed": true
   },
   "outputs": [],
   "source": [
    "boros = data_crime['BORO_NM'].cat.categories.tolist()\n",
    "d_c_by_boro = {}\n",
    "max_crime_loc = {}\n",
    "min_crime_loc = {}\n",
    "\n",
    "for boro in boros:\n",
    "    d_c_by_boro[boro] = data_crime[data_crime['BORO_NM']==boro].groupby(\n",
    "        by=[pd.cut(data_crime[data_crime['BORO_NM']==boro]['Latitude'], latrange),\n",
    "        pd.cut(data_crime[data_crime['BORO_NM']==boro]['Longitude'], lonrange),\n",
    "        pd.TimeGrouper(key='CMPLNT_FR_DT',freq='M')])\n",
    "    \n",
    "    max_crime_loc[boro] = d_c_by_boro[boro].size().unstack().mean(axis=1).argmax()\n",
    "    min_crime_loc[boro] = d_c_by_boro[boro].size().unstack().mean(axis=1).argmin()"
   ]
  },
  {
   "cell_type": "code",
   "execution_count": 9,
   "metadata": {
    "ExecuteTime": {
     "end_time": "2017-05-15T16:55:07.326539Z",
     "start_time": "2017-05-15T16:55:07.311545Z"
    }
   },
   "outputs": [
    {
     "data": {
      "text/plain": [
       "{'BRONX': (Interval(40.658999999999999, 40.679000000000002, closed='right'),\n",
       "  Interval(-74.015000000000001, -73.995000000000005, closed='right')),\n",
       " 'BROOKLYN': (Interval(40.619, 40.639000000000003, closed='right'),\n",
       "  Interval(-74.155000000000001, -74.135000000000005, closed='right')),\n",
       " 'MANHATTAN': (Interval(40.639000000000003, 40.658999999999999, closed='right'),\n",
       "  Interval(-74.015000000000001, -73.995000000000005, closed='right')),\n",
       " 'QUEENS': (Interval(40.579000000000001, 40.598999999999997, closed='right'),\n",
       "  Interval(-73.875, -73.855000000000004, closed='right')),\n",
       " 'STATEN ISLAND': (Interval(40.598999999999997, 40.619, closed='right'),\n",
       "  Interval(-74.215000000000003, -74.194999999999993, closed='right'))}"
      ]
     },
     "execution_count": 9,
     "metadata": {},
     "output_type": "execute_result"
    }
   ],
   "source": [
    "min_crime_loc"
   ]
  },
  {
   "cell_type": "code",
   "execution_count": 10,
   "metadata": {
    "ExecuteTime": {
     "end_time": "2017-05-15T16:55:35.437785Z",
     "start_time": "2017-05-15T16:55:07.336046Z"
    },
    "collapsed": true
   },
   "outputs": [],
   "source": [
    "d_311_grouped = data_311.groupby(\n",
    "    by=[pd.cut(data_311['Latitude'], latrange),\n",
    "        pd.cut(data_311['Longitude'], lonrange),\n",
    "        pd.TimeGrouper(key='created_date',freq='M')])\n",
    "\n",
    "d_c_grouped = data_crime.groupby(\n",
    "    by=[pd.cut(data_crime['Latitude'], latrange),\n",
    "    pd.cut(data_crime['Longitude'], lonrange),\n",
    "    pd.TimeGrouper(key='CMPLNT_FR_DT',freq='M')])\n",
    "\n",
    "d_311_largest = {}\n",
    "data = {}\n",
    "\n",
    "complaint_311_count = data_311['Complaint Type'].value_counts()\n",
    "\n",
    "for boro in boros:\n",
    "    data[boro] = d_c_grouped.size().loc[max_crime_loc[boro]].to_frame('total_crimes').merge(\n",
    "        d_311_grouped['Complaint Type'].value_counts().loc[max_crime_loc[boro]].unstack().fillna(0),\n",
    "        left_index=True, right_index=True, how='inner')"
   ]
  },
  {
   "cell_type": "code",
   "execution_count": 11,
   "metadata": {
    "ExecuteTime": {
     "end_time": "2017-05-15T16:55:35.776011Z",
     "start_time": "2017-05-15T16:55:35.439786Z"
    },
    "collapsed": true
   },
   "outputs": [],
   "source": [
    "d_311_grouped = data_311.groupby(\n",
    "    by=['Borough'])\n",
    "\n",
    "d_c_grouped = data_crime.groupby(\n",
    "    by=['BORO_NM'])\n",
    "\n",
    "data = d_311_grouped.size().to_frame('311').merge(d_c_grouped.size().to_frame('crime'), left_index=True, right_index=True)"
   ]
  },
  {
   "cell_type": "code",
   "execution_count": 12,
   "metadata": {
    "ExecuteTime": {
     "end_time": "2017-05-15T16:55:36.080207Z",
     "start_time": "2017-05-15T16:55:35.777987Z"
    }
   },
   "outputs": [
    {
     "data": {
      "image/png": "[encoded data removed]",
      "text/plain": [
       "<matplotlib.figure.Figure at 0x1d32700de48>"
      ]
     },
     "metadata": {},
     "output_type": "display_data"
    }
   ],
   "source": [
    "plt.close('all')\n",
    "data.plot(kind='scatter', x='311', y='crime')\n",
    "plt.show()"
   ]
  },
  {
   "cell_type": "code",
   "execution_count": 13,
   "metadata": {
    "ExecuteTime": {
     "end_time": "2017-05-15T16:55:38.003598Z",
     "start_time": "2017-05-15T16:55:36.082209Z"
    },
    "collapsed": true
   },
   "outputs": [],
   "source": [
    "d_311_grouped = data_311.groupby(\n",
    "    by=[pd.cut(data_311['Latitude'], latrange),\n",
    "        pd.cut(data_311['Longitude'], lonrange)])\n",
    "\n",
    "d_c_grouped = data_crime.groupby(\n",
    "    by=[pd.cut(data_crime['Latitude'], latrange),\n",
    "    pd.cut(data_crime['Longitude'], lonrange)])\n",
    "\n",
    "data = d_311_grouped.size().to_frame('311').merge(d_c_grouped.size().to_frame('crime'), left_index=True, right_index=True)"
   ]
  },
  {
   "cell_type": "code",
   "execution_count": 36,
   "metadata": {
    "ExecuteTime": {
     "end_time": "2017-05-15T17:13:33.835371Z",
     "start_time": "2017-05-15T17:13:33.558648Z"
    }
   },
   "outputs": [],
   "source": [
    "data_311 = np.array(data['311'].apply(int))\n",
    "data_crime = np.array(data['crime'].apply(int))\n",
    "plt.close('all')\n",
    "# data.plot(kind='scatter', x='311', y='crime')\n",
    "sns.regplot(x=data_311, y=data_crime)\n",
    "plt.suptitle('311 v total crime 2010-2016\\ngrouped by location')\n",
    "plt.xlabel('Total 311 complaints')\n",
    "plt.ylabel('Total reported crime')\n",
    "plt.savefig('311vcrime.png', format='png')\n",
    "# plt.show()"
   ]
  },
  {
   "cell_type": "code",
   "execution_count": null,
   "metadata": {
    "collapsed": true
   },
   "outputs": [],
   "source": []
  }
 ],
 "metadata": {
  "kernelspec": {
   "display_name": "Python 3",
   "language": "python",
   "name": "python3"
  },
  "language_info": {
   "codemirror_mode": {
    "name": "ipython",
    "version": 3
   },
   "file_extension": ".py",
   "mimetype": "text/x-python",
   "name": "python",
   "nbconvert_exporter": "python",
   "pygments_lexer": "ipython3",
   "version": "3.6.1"
  }
 },
 "nbformat": 4,
 "nbformat_minor": 2
}
