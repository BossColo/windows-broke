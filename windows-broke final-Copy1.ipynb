{
 "cells": [
  {
   "cell_type": "code",
   "execution_count": 2,
   "metadata": {
    "ExecuteTime": {
     "end_time": "2017-05-15T15:35:24.475022Z",
     "start_time": "2017-05-15T15:35:22.775479Z"
    },
    "collapsed": true
   },
   "outputs": [],
   "source": [
    "import numpy as np\n",
    "import pandas as pd\n",
    "import datetime as dt\n",
    "import matplotlib.pyplot as plt\n",
    "import matplotlib.dates as date\n",
    "import seaborn as sns\n",
    "from scipy.signal import kaiserord, filtfilt, firwin, freqz\n",
    "from sklearn import linear_model\n",
    "\n",
    "sns.set_context('talk')"
   ]
  },
  {
   "cell_type": "code",
   "execution_count": 3,
   "metadata": {
    "ExecuteTime": {
     "end_time": "2017-05-15T15:35:47.299576Z",
     "start_time": "2017-05-15T15:35:24.475983Z"
    },
    "collapsed": true
   },
   "outputs": [],
   "source": [
    "data_crime_raw = pd.read_csv('.\\\\NYPD_Complaint_Data_Historic.csv',\n",
    "                             usecols=['CMPLNT_FR_DT', 'LAW_CAT_CD', 'BORO_NM'],\n",
    "                             dtype={'LAW_CAT_CD':'category', 'BORO_NM':'category'})\n",
    "\n",
    "data_crime_raw['CMPLNT_FR_DT'] = pd.to_datetime(data_crime_raw['CMPLNT_FR_DT'], format='%m/%d/%Y', errors='coerce')"
   ]
  },
  {
   "cell_type": "code",
   "execution_count": 4,
   "metadata": {
    "ExecuteTime": {
     "end_time": "2017-05-15T15:37:55.103730Z",
     "start_time": "2017-05-15T15:35:47.301577Z"
    },
    "collapsed": true
   },
   "outputs": [],
   "source": [
    "data_311_raw = pd.read_csv('.\\\\311_Service_Requests_from_2010_to_Present.csv',\n",
    "                           usecols=['Created Date', 'Complaint Type', 'Borough'],\n",
    "                           dtype={'Complaint Type':'category', 'Borough':'category'}).rename(\n",
    "                                columns={'Created Date':'created_date'})\n",
    "\n",
    "data_311_raw['created_date'] = pd.to_datetime(data_311_raw['created_date'], format='%m/%d/%Y %I:%M:%S %p', errors='coerce')"
   ]
  },
  {
   "cell_type": "code",
   "execution_count": 5,
   "metadata": {
    "ExecuteTime": {
     "end_time": "2017-05-15T15:37:58.260591Z",
     "start_time": "2017-05-15T15:37:55.106222Z"
    },
    "collapsed": true
   },
   "outputs": [],
   "source": [
    "data_crime = data_crime_raw[data_crime_raw.CMPLNT_FR_DT > pd.to_datetime(dt.date(2010,1,1))].dropna()\n",
    "data_311 = data_311_raw[data_311_raw.created_date < pd.to_datetime(dt.date(2016,1,1))].dropna()"
   ]
  },
  {
   "cell_type": "code",
   "execution_count": 6,
   "metadata": {
    "ExecuteTime": {
     "end_time": "2017-05-15T15:37:58.357140Z",
     "start_time": "2017-05-15T15:37:58.263076Z"
    },
    "collapsed": true
   },
   "outputs": [],
   "source": [
    "data_crime = data_crime[data_crime.LAW_CAT_CD != 'VIOLATION']"
   ]
  },
  {
   "cell_type": "code",
   "execution_count": 7,
   "metadata": {
    "ExecuteTime": {
     "end_time": "2017-05-15T15:38:07.438559Z",
     "start_time": "2017-05-15T15:37:58.358642Z"
    },
    "collapsed": true
   },
   "outputs": [],
   "source": [
    "boros = data_crime['BORO_NM'].cat.categories.tolist()\n",
    "d_c_boro = {}\n",
    "d_311_boro = {}\n",
    "data = {}\n",
    "\n",
    "for boro in boros:\n",
    "    d_c_boro[boro] = data_crime[data_crime['BORO_NM']==boro].groupby([\n",
    "        pd.TimeGrouper(key='CMPLNT_FR_DT', freq='D')])\n",
    "    d_311_boro[boro] = data_311[data_311['Borough']==boro].groupby([\n",
    "        pd.TimeGrouper(key='created_date', freq='D')])\n",
    "    data[boro] = d_c_boro[boro].size().to_frame('crime').merge(\n",
    "        d_311_boro[boro]['Complaint Type'].value_counts().unstack(), \n",
    "        left_index=True, right_index=True, how='inner').fillna(0)"
   ]
  },
  {
   "cell_type": "code",
   "execution_count": 8,
   "metadata": {
    "ExecuteTime": {
     "end_time": "2017-05-15T15:38:23.869568Z",
     "start_time": "2017-05-15T15:38:07.440595Z"
    },
    "collapsed": true
   },
   "outputs": [],
   "source": [
    "#A Kaiser window is used, kaiserord calculates beta parameter for window and optimal number of taps for filter\n",
    "#Firwin calculates N taps (with N optimally calculated by kaiserord)\n",
    "#filtfilt convolutes taps forward, and then backward to avoid data lag\n",
    "\n",
    "nyq_rate = 0.5\n",
    "width = 0.1/nyq_rate\n",
    "ripple_db = 1000.0\n",
    "N, beta = kaiserord(ripple_db, width)\n",
    "\n",
    "cutoff_hz = (1/10)/nyq_rate\n",
    "\n",
    "taps = firwin(N, cutoff_hz, window=('kaiser', beta), pass_zero=True)\n",
    "\n",
    "data_filt = {}\n",
    "crime_filt = {}\n",
    "\n",
    "for boro in boros:\n",
    "    data_filt[boro] = data[boro].apply(lambda x: x - filtfilt(taps, 1.0, x))\n",
    "    crime_filt[boro] = filtfilt(taps, 1.0, data[boro]['crime'])"
   ]
  },
  {
   "cell_type": "code",
   "execution_count": 9,
   "metadata": {
    "ExecuteTime": {
     "end_time": "2017-05-15T15:38:25.360572Z",
     "start_time": "2017-05-15T15:38:23.871570Z"
    }
   },
   "outputs": [
    {
     "name": "stdout",
     "output_type": "stream",
     "text": [
      "BRONX: \n",
      "Street Condition                     0.260917\n",
      "Dirty Conditions                     0.234382\n",
      "Consumer Complaint                   0.203837\n",
      "Missed Collection (All Materials)    0.201148\n",
      "Street Light Condition               0.193043\n",
      "General Construction/Plumbing        0.184329\n",
      "Noise                                0.173051\n",
      "Graffiti                             0.170836\n",
      "Broken Muni Meter                    0.170255\n",
      "GENERAL CONSTRUCTION                 0.168566\n",
      "Name: crime, dtype: float64\n",
      "\n",
      "\n",
      "BROOKLYN: \n",
      "Broken Parking Meter                 0.226481\n",
      "Electrical                           0.213709\n",
      "Street Light Condition               0.207967\n",
      "Missed Collection (All Materials)    0.192062\n",
      "General Construction/Plumbing        0.183267\n",
      "Building/Use                         0.183185\n",
      "Noise                                0.161675\n",
      "Sidewalk Condition                   0.151434\n",
      "Consumer Complaint                   0.150525\n",
      "Dirty Conditions                     0.146151\n",
      "Name: crime, dtype: float64\n",
      "\n",
      "\n",
      "MANHATTAN: \n",
      "Broken Muni Meter                    0.339849\n",
      "Illegal Parking                      0.259549\n",
      "Missed Collection (All Materials)    0.252741\n",
      "Noise                                0.237962\n",
      "Vending                              0.230772\n",
      "Taxi Complaint                       0.179316\n",
      "Noise - Commercial                   0.162012\n",
      "Broken Parking Meter                 0.161532\n",
      "General Construction/Plumbing        0.143810\n",
      "Traffic                              0.139854\n",
      "Name: crime, dtype: float64\n",
      "\n",
      "\n",
      "QUEENS: \n",
      "Missed Collection (All Materials)    0.171778\n",
      "HEATING                              0.115365\n",
      "Sidewalk Condition                   0.108489\n",
      "Street Light Condition               0.107723\n",
      "SCRIE                                0.103795\n",
      "Broken Parking Meter                 0.102505\n",
      "Noise - Street/Sidewalk              0.091420\n",
      "General Construction/Plumbing        0.089878\n",
      "Dirty Conditions                     0.086969\n",
      "Noise - Vehicle                      0.084539\n",
      "Name: crime, dtype: float64\n",
      "\n",
      "\n",
      "STATEN ISLAND: \n",
      "Missed Collection (All Materials)    0.122432\n",
      "Noise                                0.100004\n",
      "Traffic                              0.097051\n",
      "Sanitation Condition                 0.096791\n",
      "Stalled Sites                        0.076503\n",
      "Street Light Condition               0.071587\n",
      "Street Condition                     0.069522\n",
      "Literature Request                   0.068549\n",
      "Rodent                               0.067539\n",
      "Indoor Air Quality                   0.067403\n",
      "Name: crime, dtype: float64\n",
      "\n",
      "\n"
     ]
    }
   ],
   "source": [
    "for boro in boros:\n",
    "    print(boro+': ')\n",
    "    print(data_filt[boro].corr().abs()['crime'].nlargest(11)[1:])\n",
    "    print('\\n')"
   ]
  },
  {
   "cell_type": "code",
   "execution_count": 10,
   "metadata": {
    "ExecuteTime": {
     "end_time": "2017-05-15T15:38:27.120908Z",
     "start_time": "2017-05-15T15:38:25.362575Z"
    },
    "collapsed": true
   },
   "outputs": [],
   "source": [
    "to_delete = {}\n",
    "\n",
    "for boro in boros:\n",
    "    to_delete[boro] = []\n",
    "    data_corr = data_filt[boro].corr().abs()\n",
    "    cols = list(data_corr.columns)\n",
    "    cols.remove('crime')\n",
    "    for row in data_corr.itertuples():\n",
    "        for i, col in enumerate(cols, 1):\n",
    "            if (row.Index in to_delete[boro]):\n",
    "                break\n",
    "            if (col in to_delete[boro]):\n",
    "                continue\n",
    "            if row[i+1] == 1:\n",
    "                continue\n",
    "            if row.Index == 'crime':\n",
    "                if row[i+1] < 0.05:\n",
    "                    to_delete[boro].append(col)\n",
    "            elif row[i+1] > 0.3:\n",
    "                if data_corr['crime'][row.Index] >= data_corr['crime'][col]:\n",
    "                    to_delete[boro].append(col)\n",
    "                else:\n",
    "                    to_delete[boro].append(row.Index)\n",
    "                    break\n",
    "    to_delete[boro] = list(set(to_delete[boro]))"
   ]
  },
  {
   "cell_type": "code",
   "execution_count": 11,
   "metadata": {
    "ExecuteTime": {
     "end_time": "2017-05-15T15:38:27.143885Z",
     "start_time": "2017-05-15T15:38:27.122870Z"
    }
   },
   "outputs": [
    {
     "name": "stdout",
     "output_type": "stream",
     "text": [
      "BRONX: \n",
      "229 - 181 = 48\n",
      "79.04%\n",
      "BROOKLYN: \n",
      "235 - 188 = 47\n",
      "80.00%\n",
      "MANHATTAN: \n",
      "240 - 208 = 32\n",
      "86.67%\n",
      "QUEENS: \n",
      "238 - 219 = 19\n",
      "92.02%\n",
      "STATEN ISLAND: \n",
      "218 - 199 = 19\n",
      "91.28%\n"
     ]
    }
   ],
   "source": [
    "for boro in boros:\n",
    "    print(boro+': ')\n",
    "    print(f'{len(data_filt[boro].columns)} - {len(to_delete[boro])} = {len(data_filt[boro].columns)-len(to_delete[boro])}')\n",
    "    print(f'{1-((len(data_filt[boro].columns)-len(to_delete[boro]))/len(data_filt[boro].columns)):.2%}')"
   ]
  },
  {
   "cell_type": "code",
   "execution_count": 12,
   "metadata": {
    "ExecuteTime": {
     "end_time": "2017-05-15T15:38:27.209931Z",
     "start_time": "2017-05-15T15:38:27.150392Z"
    },
    "collapsed": true,
    "scrolled": true
   },
   "outputs": [],
   "source": [
    "data_final = {}\n",
    "data_final_all = {}\n",
    "crime_final = {}\n",
    "\n",
    "for boro in boros:\n",
    "    crime_final[boro] = data_filt[boro]['crime']\n",
    "    data_final[boro] = data_filt[boro].drop(to_delete[boro], axis=1).drop('crime', axis=1)\n",
    "    data_final_all[boro] = data_filt[boro].drop('crime', axis=1)"
   ]
  },
  {
   "cell_type": "code",
   "execution_count": 96,
   "metadata": {
    "ExecuteTime": {
     "end_time": "2017-05-15T17:01:37.200255Z",
     "start_time": "2017-05-15T17:01:36.247025Z"
    },
    "scrolled": false
   },
   "outputs": [],
   "source": [
    "test_size = 50\n",
    "plt.close('all')\n",
    "fig, ax = plt.subplots(3, ncols=2, figsize=(18, 20))\n",
    "axs = ax.flatten()\n",
    "fig.delaxes(axs[-1])\n",
    "\n",
    "for i, boro in enumerate(boros):\n",
    "    # Split the data into training/testing sets    \n",
    "    data_final_train = data_final[boro][1:-test_size]\n",
    "    data_final_test = data_final[boro][-test_size:-1]\n",
    "\n",
    "    # Split the targets into training/testing sets\n",
    "    crime_final_train = crime_final[boro][1:-test_size]\n",
    "    crime_final_test = crime_final[boro][-test_size:-1]\n",
    "\n",
    "    # Create linear regression object\n",
    "    regr = linear_model.LinearRegression()\n",
    "\n",
    "    # Train the model using the training sets\n",
    "    regr.fit(data_final_train, crime_final_train)\n",
    "\n",
    "    # The coefficients\n",
    "    #print('Coefficients: \\n', regr.coef_)\n",
    "    # The mean squared error\n",
    "#     print(\"Mean squared error: %.2f\"\n",
    "#           % np.mean((regr.predict(data_final_test) - crime_final_test) ** 2))\n",
    "    # Explained variance score: 1 is perfect prediction\n",
    "#     print('Variance score: %.2f' % regr.score(data_final_test, crime_final_test))\n",
    "\n",
    "    # Plot outputs\n",
    "    \n",
    "    axs[i].set_title(boro.capitalize())\n",
    "    \n",
    "    axs[i].scatter(data_final_test.index, crime_final_test+crime_filt[boro][-test_size:-1],  color='black',\n",
    "                  label='Recorded crimes')\n",
    "    axs[i].plot(data_final_test.index, regr.predict(data_final_test)+crime_filt[boro][-test_size:-1],\n",
    "             linewidth=3, label='Predicted crimes\\nw/ partial feature set')\n",
    "    axs[i].set_xlim(data_final_test.index[0], data_final_test.index[-1])\n",
    "    for label in axs[i].get_xticklabels():\n",
    "        label.set_rotation(30) \n",
    "\n",
    "    axs[i].annotate(\n",
    "                f'Mean squared error: {np.mean((regr.predict(data_final_test) - crime_final_test) ** 2):.2f}\\n'+\n",
    "                f'Variance score: {regr.score(data_final_test, crime_final_test):.2f}',\n",
    "                ha='left', va='top', xy=(0.02, 0.97), xycoords='axes fraction')\n",
    "    axs[i].legend(loc=1, frameon=True)\n",
    "    axs[i].set_ylabel('Total crimes')\n",
    "    axs[i].format_xdata = date.DateFormatter('%Y-%m')\n",
    "    \n",
    "\n",
    "fig.subplots_adjust(left=0.1, right=0.95, top=0.95, bottom=0.05, hspace=0.25)\n",
    "\n",
    "plt.savefig('linfit.png', format='png')\n",
    "# plt.show()"
   ]
  },
  {
   "cell_type": "code",
   "execution_count": 87,
   "metadata": {
    "ExecuteTime": {
     "end_time": "2017-05-15T16:49:39.146939Z",
     "start_time": "2017-05-15T16:49:37.437546Z"
    }
   },
   "outputs": [],
   "source": [
    "test_size = 50\n",
    "plt.close('all')\n",
    "fig, ax = plt.subplots(5, ncols=2, figsize=(18, 23))\n",
    "axs = ax.flatten()\n",
    "\n",
    "for i, boro in enumerate(boros):\n",
    "    # Split the data into training/testing sets\n",
    "    data_finall_train = data_final_all[boro][1:-test_size]\n",
    "    data_finall_test = data_final_all[boro][-test_size:-1]\n",
    "    \n",
    "    data_final_train = data_final[boro][1:-test_size]\n",
    "    data_final_test = data_final[boro][-test_size:-1]\n",
    "\n",
    "    # Split the targets into training/testing sets\n",
    "    crime_final_train = crime_final[boro][1:-test_size]\n",
    "    crime_final_test = crime_final[boro][-test_size:-1]\n",
    "\n",
    "    # Create linear regression object\n",
    "    regr = linear_model.LinearRegression()\n",
    "    regr_all = linear_model.LinearRegression()\n",
    "\n",
    "    # Train the model using the training sets\n",
    "    regr.fit(data_final_train, crime_final_train)\n",
    "    regr_all.fit(data_finall_train, crime_final_train)\n",
    "\n",
    "    # The coefficients\n",
    "    #print('Coefficients: \\n', regr.coef_)\n",
    "    # The mean squared error\n",
    "#     print(\"Mean squared error: %.2f\"\n",
    "#           % np.mean((regr.predict(data_final_test) - crime_final_test) ** 2))\n",
    "    # Explained variance score: 1 is perfect prediction\n",
    "#     print('Variance score: %.2f' % regr.score(data_final_test, crime_final_test))\n",
    "\n",
    "    # Plot outputs\n",
    "    \n",
    "    axs[2*i].set_title(boro.capitalize())\n",
    "\n",
    "    axs[2*i].scatter(data_finall_test.index, crime_final_test,  color='black',\n",
    "                  label='Recorded crimes')\n",
    "    axs[2*i].plot(data_finall_test.index, regr_all.predict(data_finall_test),\n",
    "             linewidth=3, label='Predited crimes\\nw/ full feature set')\n",
    "    axs[2*i].set_xlim(data_finall_test.index[0], data_finall_test.index[-1])\n",
    "    axs[2*i].annotate(\n",
    "                f'Mean squared error: {np.mean((regr_all.predict(data_finall_test) - crime_final_test) ** 2):.2f}\\n'+\n",
    "                f'Variance score: {regr_all.score(data_finall_test, crime_final_test):.2f}',\n",
    "                ha='left', va='top', xy=(0.02, 0.97), xycoords='axes fraction')\n",
    "    axs[2*i].legend(loc=1, frameon=True)\n",
    "    axs[2*i].set_ylabel('Total crimes')\n",
    "    for label in axs[2*i].get_xticklabels():\n",
    "        label.set_rotation(30) \n",
    "    \n",
    "    axs[2*i+1].scatter(data_final_test.index, crime_final_test,  color='black',\n",
    "                  label='Recorded crimes')\n",
    "    axs[2*i+1].plot(data_final_test.index, regr.predict(data_final_test),\n",
    "             linewidth=3, label='Predicted crimes\\nw/ partial feature set')\n",
    "    axs[2*i+1].set_xlim(data_finall_test.index[0], data_finall_test.index[-1])\n",
    "    axs[2*i+1].annotate(\n",
    "                f'Mean squared error: {np.mean((regr.predict(data_final_test) - crime_final_test) ** 2):.2f}\\n'+\n",
    "                f'Variance score: {regr.score(data_final_test, crime_final_test):.2f}',\n",
    "                ha='left', va='top', xy=(0.02, 0.97), xycoords='axes fraction')\n",
    "    axs[2*i+1].legend(loc=1, frameon=True)\n",
    "    axs[2*i+1].set_ylabel('Total crimes')\n",
    "    for label in axs[2*i+1].get_xticklabels():\n",
    "        label.set_rotation(30)\n",
    "    \n",
    "    if i==6:\n",
    "        break\n",
    "\n",
    "fig.subplots_adjust(left=0.1, right=0.95, top=0.95, bottom=0.05, hspace=0.5)\n",
    "\n",
    "plt.savefig('linfitnobandpass.png', format='png')\n",
    "# plt.show()"
   ]
  },
  {
   "cell_type": "code",
   "execution_count": 81,
   "metadata": {
    "ExecuteTime": {
     "end_time": "2017-05-15T16:48:05.309638Z",
     "start_time": "2017-05-15T16:48:04.128230Z"
    },
    "scrolled": false
   },
   "outputs": [],
   "source": [
    "test_size = 100\n",
    "plt.close('all')\n",
    "fig, ax = plt.subplots(3, ncols=2, figsize=(18, 20))\n",
    "axs = ax.flatten()\n",
    "fig.delaxes(axs[-1])\n",
    "\n",
    "for i, boro in enumerate(boros):\n",
    "    # Split the data into training/testing sets\n",
    "    data_finall_train = data_final_all[boro][1:-test_size]\n",
    "    data_finall_test = data_final_all[boro][-test_size:-1]\n",
    "\n",
    "    # Split the targets into training/testing sets\n",
    "    crime_final_train = crime_final[boro][1:-test_size]\n",
    "    crime_final_test = crime_final[boro][-test_size:-1]\n",
    "\n",
    "    # Create linear regression object\n",
    "    regr_all = linear_model.Lasso()\n",
    "\n",
    "    # Train the model using the training sets\n",
    "    regr_all.fit(data_finall_train, crime_final_train)\n",
    "\n",
    "    # The coefficients\n",
    "#     print('Coefficients: \\n', regr_all.coef_)\n",
    "    # The mean squared error\n",
    "#     print(\"Mean squared error: %.2f\"\n",
    "#           % np.mean((regr.predict(data_final_test) - crime_final_test) ** 2))\n",
    "    # Explained variance score: 1 is perfect prediction\n",
    "#     print('Variance score: %.2f' % regr.score(data_final_test, crime_final_test))\n",
    "\n",
    "    # Plot outputs\n",
    "    \n",
    "    axs[i].set_title(boro.capitalize())\n",
    "\n",
    "    axs[i].scatter(data_finall_test.index, crime_final_test,  color='black',\n",
    "                  label='Recorded crimes')\n",
    "    axs[i].plot(data_finall_test.index, regr_all.predict(data_finall_test), color='blue',\n",
    "             linewidth=3, label='Predited crimes - Lasso\\nw/ full feature set')\n",
    "    \n",
    "    axs[i].set_xlim(data_finall_test.index[0], data_finall_test.index[-1])\n",
    "    axs[i].annotate(\n",
    "                f'Mean squared error: {np.mean((regr_all.predict(data_finall_test) - crime_final_test) ** 2):.2f}\\n'+\n",
    "                f'Variance score: {regr_all.score(data_finall_test, crime_final_test):.2f}',\n",
    "                ha='left', va='top', xy=(0.02, 0.97), xycoords='axes fraction')\n",
    "    axs[i].legend(loc=1, frameon=True)\n",
    "    axs[i].set_ylabel('Total crimes')\n",
    "    axs[i].format_xdata = date.DateFormatter('%Y-%m')\n",
    "\n",
    "\n",
    "# fig.autofmt_xdate()\n",
    "# plt.show()\n",
    "fig.subplots_adjust(left=0.1, right=0.95, top=0.95, bottom=0.05)\n",
    "plt.savefig('lassofit.png', format='png')"
   ]
  },
  {
   "cell_type": "code",
   "execution_count": null,
   "metadata": {
    "collapsed": true
   },
   "outputs": [],
   "source": []
  }
 ],
 "metadata": {
  "kernelspec": {
   "display_name": "Python 3",
   "language": "python",
   "name": "python3"
  },
  "language_info": {
   "codemirror_mode": {
    "name": "ipython",
    "version": 3
   },
   "file_extension": ".py",
   "mimetype": "text/x-python",
   "name": "python",
   "nbconvert_exporter": "python",
   "pygments_lexer": "ipython3",
   "version": "3.6.1"
  }
 },
 "nbformat": 4,
 "nbformat_minor": 2
}
